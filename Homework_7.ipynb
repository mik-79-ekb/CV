{
 "cells": [
  {
   "cell_type": "markdown",
   "metadata": {
    "id": "-mYY42BSBOi1"
   },
   "source": [
    "# Курс \"Глубокое обучение в компьютерном зрении\""
   ]
  },
  {
   "cell_type": "markdown",
   "metadata": {},
   "source": [
    "## Задание 7."
   ]
  },
  {
   "cell_type": "markdown",
   "metadata": {},
   "source": [
    "Обучить нейронную сеть для распознавания действий человека по видео на датасете KTH  \n",
    "\n",
    "Библиотеки: [Python, Tensorflow]"
   ]
  },
  {
   "cell_type": "markdown",
   "metadata": {
    "id": "ty18tSuABT9X"
   },
   "source": [
    "## pass"
   ]
  },
  {
   "cell_type": "code",
   "execution_count": null,
   "metadata": {},
   "outputs": [],
   "source": []
  }
 ],
 "metadata": {
  "accelerator": "GPU",
  "colab": {
   "provenance": []
  },
  "kernelspec": {
   "display_name": "Python 3 (ipykernel)",
   "language": "python",
   "name": "python3"
  },
  "language_info": {
   "codemirror_mode": {
    "name": "ipython",
    "version": 3
   },
   "file_extension": ".py",
   "mimetype": "text/x-python",
   "name": "python",
   "nbconvert_exporter": "python",
   "pygments_lexer": "ipython3",
   "version": "3.10.9"
  }
 },
 "nbformat": 4,
 "nbformat_minor": 1
}
